{
 "cells": [
  {
   "cell_type": "code",
   "execution_count": 1,
   "id": "79bf2493-88e9-4306-af16-5a86280ef7de",
   "metadata": {},
   "outputs": [],
   "source": [
    "# Descomentar para instalar última versión de PyTorch\n",
    "# Se requiere verificar la compatibilidad en https://pytorch.org/get-started/locally/\n",
    "#!pip install torch torchvision torchaudio"
   ]
  },
  {
   "cell_type": "code",
   "execution_count": 21,
   "id": "60705b61-1015-43b8-ae15-3c31696681da",
   "metadata": {},
   "outputs": [],
   "source": [
    "import matplotlib.pyplot as plt\n",
    "import matplotlib.cm as cm\n",
    "import numpy as np"
   ]
  },
  {
   "cell_type": "code",
   "execution_count": 22,
   "id": "93832bb8-343a-4abc-9f88-3b4294bec6c2",
   "metadata": {},
   "outputs": [],
   "source": [
    "import torch\n",
    "import torch.nn as nn"
   ]
  },
  {
   "cell_type": "code",
   "execution_count": 23,
   "id": "aa2955db-a00b-48cd-a9d9-fd98c82dd224",
   "metadata": {},
   "outputs": [],
   "source": [
    "from ipywidgets import interact, interactive, fixed, interact_manual\n",
    "import ipywidgets as widgets\n",
    "from IPython.display import display"
   ]
  },
  {
   "cell_type": "markdown",
   "id": "55b26219-7003-4271-84d8-cc3d29d20605",
   "metadata": {},
   "source": [
    "Escrito siguiendo las instrucciones en [Learning PyTorch with Examples](https://pytorch.org/tutorials/beginner/pytorch_with_examples.html#nn-module)"
   ]
  },
  {
   "cell_type": "code",
   "execution_count": 24,
   "id": "3ca24b9b-2f55-47ef-9eac-681fa54bedcd",
   "metadata": {},
   "outputs": [
    {
     "name": "stdout",
     "output_type": "stream",
     "text": [
      "cuda:0\n"
     ]
    }
   ],
   "source": [
    "device = torch.device(\"cuda:0\" if torch.cuda.is_available() else \"cpu\")\n",
    "print(device)"
   ]
  },
  {
   "cell_type": "code",
   "execution_count": 25,
   "id": "7ddf9722-76bb-4bb3-8304-ee884e70ee90",
   "metadata": {},
   "outputs": [],
   "source": [
    "class TwoSigmoidModel(nn.Module):\n",
    "    \"\"\"\n",
    "    Red neuronal con una capa oculta y sigmoides como funciones de activación.\n",
    "    \"\"\"\n",
    "    \n",
    "    def __init__(self, n_input = 2, n_hidden = 2, n_out = 1):\n",
    "        \"\"\"\n",
    "        In the constructor we instantiate the nn.Linear modules and assign them as\n",
    "        member variables.\n",
    "        \"\"\"\n",
    "        super(TwoSigmoidModel, self).__init__()\n",
    "        # El bias lo agrega PyTorch por defecto\n",
    "        \n",
    "        self.z1 = nn.Linear(n_input, n_hidden)\n",
    "        self.z2 = nn.Linear(n_hidden, n_out)\n",
    "        \n",
    "    def forward(self, input):\n",
    "        \"\"\"\n",
    "        In the forward function we accept a Tensor of input data and we must return\n",
    "        a Tensor of output data. We can use Modules defined in the constructor as\n",
    "        well as arbitrary operators on Tensors that can play the role of activation\n",
    "        functions.\n",
    "        \n",
    "        Nota: La función _debe_ llamarse forward.\n",
    "        \"\"\"\n",
    "        h1 = torch.sigmoid(self.z1(input))\n",
    "        out = torch.sigmoid(self.z2(h1))\n",
    "        return out"
   ]
  },
  {
   "cell_type": "code",
   "execution_count": 26,
   "id": "d9df956e-a0a9-4424-9dfa-7f52f41c95ad",
   "metadata": {},
   "outputs": [],
   "source": [
    "def show_w(axis, mat, name):\n",
    "    cax = axis.matshow(mat.data.numpy())\n",
    "    axis.set_title(name)\n",
    "    return cax\n",
    "    \n",
    "def show_b(axis, mat, name):\n",
    "    axis.matshow(mat.data.numpy().reshape((-1,1)))\n",
    "    axis.set_title(name)"
   ]
  },
  {
   "cell_type": "code",
   "execution_count": 43,
   "id": "834a236a-6315-4cba-8d24-cd4e93478122",
   "metadata": {},
   "outputs": [],
   "source": [
    "def train(model, X, Y, learning_rate, num_steps=500):\n",
    "    \"\"\"\n",
    "    Recibe el modelo de red neuronal a entrenar,\n",
    "    los datos de entrada X y los valores de salida deseados Y\n",
    "    en tensores de PyTorch\n",
    "    \"\"\"\n",
    "    errores = np.zeros(num_steps)\n",
    "    \n",
    "    optimizer = torch.optim.SGD(model.parameters(), lr=learning_rate)\n",
    "    criterion = nn.BCELoss()              # Binary Cross Entropy\n",
    "    #criterion = torch.nn.MSELoss()       # Mean Squared Error\n",
    "    for t in range(num_steps):\n",
    "        # Forward pass: Compute predicted y by passing x to the model\n",
    "        y_pred = model(X)\n",
    "\n",
    "        # Compute and print loss\n",
    "        loss = criterion(y_pred, Y)\n",
    "        #print(t, loss.item())\n",
    "        errores[t] = loss.item()\n",
    "\n",
    "        # Zero gradients, perform a backward pass, and update the weights.\n",
    "        optimizer.zero_grad()\n",
    "        loss.backward()\n",
    "        optimizer.step()\n",
    "    \n",
    "    # Grafica error\n",
    "    p = plt.plot(np.arange(num_steps), errores)\n",
    "    plt.title(\"Error\")\n",
    "    plt.ylabel(\"Entropía cruzada binaria\")\n",
    "    plt.xlabel(\"Iteración\")\n",
    "    \n",
    "    # Grafica pesos\n",
    "    parameters = list(model.parameters())\n",
    "    fig, axes = plt.subplots(1,4, figsize=(12,1.5))\n",
    "    w1 = parameters[0]\n",
    "    b1 = parameters[1]\n",
    "    w2 = parameters[2]\n",
    "    b2 = parameters[3]\n",
    "    if device != 'cpu':\n",
    "        w1 = w1.cpu()\n",
    "        b1 = b1.cpu()\n",
    "        w2 = w2.cpu()\n",
    "        b2 = b2.cpu()\n",
    "    cax = show_w(axes[0], w1, \"w1\")\n",
    "    show_b(axes[1], b1, \"b1\")\n",
    "    show_w(axes[2], w2, \"w2\")\n",
    "    show_b(axes[3], b2, \"b2\")\n",
    "    fig.colorbar(cax)\n",
    "    print(\"w1 = \", w1, \" b1 = \", b1, \" w2 = \", w2, \" b2 = \", b2)"
   ]
  },
  {
   "cell_type": "code",
   "execution_count": 28,
   "id": "599b6efa-e2fa-4217-8173-03c49538b8ce",
   "metadata": {},
   "outputs": [],
   "source": [
    "# TODO: Crear X, Y y ¡a usar!\n",
    "X = torch.Tensor([[0, 0],\n",
    "                  [0, 1],\n",
    "                  [1, 0],\n",
    "                  [1, 1]])\n",
    "Y = torch.Tensor([[0],\n",
    "                  [1],\n",
    "                  [1],\n",
    "                  [0]])"
   ]
  },
  {
   "cell_type": "code",
   "execution_count": 29,
   "id": "3dd89ae9-c54e-43f3-8f4d-4eeadeb39e2d",
   "metadata": {},
   "outputs": [],
   "source": [
    "model = TwoSigmoidModel()"
   ]
  },
  {
   "cell_type": "code",
   "execution_count": 30,
   "id": "dec90516-8738-4014-98f9-749781b10566",
   "metadata": {},
   "outputs": [
    {
     "data": {
      "text/plain": [
       "TwoSigmoidModel(\n",
       "  (z1): Linear(in_features=2, out_features=2, bias=True)\n",
       "  (z2): Linear(in_features=2, out_features=1, bias=True)\n",
       ")"
      ]
     },
     "execution_count": 30,
     "metadata": {},
     "output_type": "execute_result"
    }
   ],
   "source": [
    "model.cuda()"
   ]
  },
  {
   "cell_type": "code",
   "execution_count": 32,
   "id": "f4784e4d-2728-4fa9-8382-d19b25630111",
   "metadata": {},
   "outputs": [
    {
     "data": {
      "text/plain": [
       "device(type='cuda', index=0)"
      ]
     },
     "execution_count": 32,
     "metadata": {},
     "output_type": "execute_result"
    }
   ],
   "source": [
    "next(model.z2.parameters()).device"
   ]
  },
  {
   "cell_type": "code",
   "execution_count": 37,
   "id": "67d446fa-249f-4277-90da-da0158ed2bd4",
   "metadata": {},
   "outputs": [],
   "source": [
    "X = X.to(device)"
   ]
  },
  {
   "cell_type": "code",
   "execution_count": 38,
   "id": "e62724d2-844b-495d-aa9d-30c0f6893f8c",
   "metadata": {},
   "outputs": [],
   "source": [
    "Y = Y.to(device)"
   ]
  },
  {
   "cell_type": "markdown",
   "id": "bc9fd4db-6fd6-488e-b385-025bf0099148",
   "metadata": {},
   "source": [
    "Antes del entrenamiento"
   ]
  },
  {
   "cell_type": "code",
   "execution_count": 39,
   "id": "7d9ee281-4dd6-43e2-bf98-1e0769483298",
   "metadata": {},
   "outputs": [],
   "source": [
    "Out = model.forward(X)"
   ]
  },
  {
   "cell_type": "code",
   "execution_count": 40,
   "id": "33c6a3b9-dfe8-4f4b-820e-eb913daa7dd4",
   "metadata": {},
   "outputs": [
    {
     "name": "stdout",
     "output_type": "stream",
     "text": [
      "X =  tensor([[0., 0.],\n",
      "        [0., 1.],\n",
      "        [1., 0.],\n",
      "        [1., 1.]], device='cuda:0')\n",
      "Y =  tensor([[0.],\n",
      "        [1.],\n",
      "        [1.],\n",
      "        [0.]], device='cuda:0')\n",
      "Out =  tensor([[0.6447],\n",
      "        [0.6427],\n",
      "        [0.6214],\n",
      "        [0.6196]], device='cuda:0', grad_fn=<SigmoidBackward0>)\n"
     ]
    }
   ],
   "source": [
    "def print_state():\n",
    "    print(\"X = \", X)\n",
    "    print(\"Y = \", Y)\n",
    "    print(\"Out = \", Out)\n",
    "print_state()"
   ]
  },
  {
   "cell_type": "code",
   "execution_count": 44,
   "id": "4c3f5a0c-db1d-438b-af29-d0168e4e1c44",
   "metadata": {},
   "outputs": [
    {
     "data": {
      "application/vnd.jupyter.widget-view+json": {
       "model_id": "56f7d4de797e4a70807dcde137062c2e",
       "version_major": 2,
       "version_minor": 0
      },
      "text/plain": [
       "interactive(children=(IntSlider(value=7, description='alpha', max=21, min=-7), Button(description='Run Interac…"
      ]
     },
     "metadata": {},
     "output_type": "display_data"
    }
   ],
   "source": [
    "@interact_manual(alpha=7)\n",
    "def trainXOR(alpha):\n",
    "    train(model, X, Y, learning_rate=alpha)\n",
    "    global Out\n",
    "    Out = model.forward(X)\n",
    "    print_state()"
   ]
  },
  {
   "cell_type": "code",
   "execution_count": null,
   "id": "418646e5-0a2c-4976-b842-d436f4152f22",
   "metadata": {},
   "outputs": [],
   "source": []
  }
 ],
 "metadata": {
  "kernelspec": {
   "display_name": "Python 3 (ipykernel)",
   "language": "python",
   "name": "python3"
  },
  "language_info": {
   "codemirror_mode": {
    "name": "ipython",
    "version": 3
   },
   "file_extension": ".py",
   "mimetype": "text/x-python",
   "name": "python",
   "nbconvert_exporter": "python",
   "pygments_lexer": "ipython3",
   "version": "3.12.3"
  }
 },
 "nbformat": 4,
 "nbformat_minor": 5
}
