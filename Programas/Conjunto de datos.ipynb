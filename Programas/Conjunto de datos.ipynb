{
 "cells": [
  {
   "cell_type": "markdown",
   "id": "7d86b82e-cbce-42f6-aceb-bed765341b53",
   "metadata": {},
   "source": [
    "## Bibliotecas requeridas"
   ]
  },
  {
   "cell_type": "code",
   "execution_count": 1,
   "id": "14ddc1d7",
   "metadata": {
    "scrolled": true
   },
   "outputs": [],
   "source": [
    "# En caso de no estar instaladas, cambiar a True para ejecutar:\n",
    "if False:\n",
    "    !pip install -U scikit-learn scipy matplotlib pandas"
   ]
  },
  {
   "cell_type": "code",
   "execution_count": 2,
   "id": "e54a652a-7ba3-4b64-b6be-2c047ee4e68f",
   "metadata": {},
   "outputs": [],
   "source": [
    "from sklearn.datasets import fetch_openml"
   ]
  },
  {
   "cell_type": "code",
   "execution_count": 3,
   "id": "f195863b-b70d-44ce-9c4b-ae34e331d786",
   "metadata": {},
   "outputs": [],
   "source": [
    "import numpy as np"
   ]
  },
  {
   "cell_type": "code",
   "execution_count": 4,
   "id": "9b8e0b26-6c03-463c-91c9-37f9db3daf82",
   "metadata": {},
   "outputs": [],
   "source": [
    "import matplotlib.pyplot as plt"
   ]
  },
  {
   "cell_type": "markdown",
   "id": "4eedf57a-8406-43b5-8b3d-ff7499cf64b6",
   "metadata": {},
   "source": [
    "## Datos MNIST"
   ]
  },
  {
   "cell_type": "markdown",
   "id": "41171719-a035-44da-a30f-c544a8f5c1b4",
   "metadata": {},
   "source": [
    "Para encontrar el directorio de trabajo en Windows:"
   ]
  },
  {
   "cell_type": "code",
   "execution_count": 7,
   "id": "23950815-6ed4-4652-b410-e0d14aae5262",
   "metadata": {
    "scrolled": true
   },
   "outputs": [
    {
     "name": "stdout",
     "output_type": "stream",
     "text": [
      "C:\\Users\\Profesor\n"
     ]
    }
   ],
   "source": [
    "!cd"
   ]
  },
  {
   "cell_type": "code",
   "execution_count": 5,
   "id": "99b05ead-d726-4db1-aa8c-cce71dea630a",
   "metadata": {},
   "outputs": [
    {
     "name": "stdout",
     "output_type": "stream",
     "text": [
      "/home/blackzafiro/blackzafiro/Programas/cuadernos/IPython/AM\n"
     ]
    }
   ],
   "source": [
    "# Versión Linux\n",
    "\n",
    "!pwd"
   ]
  },
  {
   "cell_type": "markdown",
   "id": "a1de1191-7d4f-4a8c-b31e-29e7e2ae2d80",
   "metadata": {},
   "source": [
    "Crear directorio local donde se descargarán los archivos del conjunto de datos"
   ]
  },
  {
   "cell_type": "code",
   "execution_count": 5,
   "id": "da857682-2f76-45b8-8237-1f4e4fb13d28",
   "metadata": {},
   "outputs": [],
   "source": [
    "!mkdir data"
   ]
  },
  {
   "cell_type": "code",
   "execution_count": 6,
   "id": "7eb432a0-b5bf-4fd9-a51c-a5fa79b5c26d",
   "metadata": {},
   "outputs": [],
   "source": [
    "mnist = fetch_openml(name=\"mnist_784\", version=1, data_home=\"./data/\")"
   ]
  },
  {
   "cell_type": "markdown",
   "id": "e5811665-5375-4a8e-a59b-a3ec32dd6c63",
   "metadata": {},
   "source": [
    "¿Qué contiene el objeto que nos regresa esta función?\n",
    "\n",
    "Documentación: [fetch_openml](https://scikit-learn.org/stable/modules/generated/sklearn.datasets.fetch_openml.html)"
   ]
  },
  {
   "cell_type": "code",
   "execution_count": 7,
   "id": "7ac25998-df33-4140-8da2-f2498485f281",
   "metadata": {},
   "outputs": [
    {
     "data": {
      "text/plain": [
       "sklearn.utils._bunch.Bunch"
      ]
     },
     "execution_count": 7,
     "metadata": {},
     "output_type": "execute_result"
    }
   ],
   "source": [
    "type(mnist)"
   ]
  },
  {
   "cell_type": "code",
   "execution_count": 8,
   "id": "ce45a83f-32a6-421a-843a-6c6f49375a44",
   "metadata": {},
   "outputs": [
    {
     "data": {
      "text/plain": [
       "['DESCR',\n",
       " 'categories',\n",
       " 'data',\n",
       " 'details',\n",
       " 'feature_names',\n",
       " 'frame',\n",
       " 'target',\n",
       " 'target_names',\n",
       " 'url']"
      ]
     },
     "execution_count": 8,
     "metadata": {},
     "output_type": "execute_result"
    }
   ],
   "source": [
    "dir(mnist)"
   ]
  },
  {
   "cell_type": "code",
   "execution_count": 9,
   "id": "30815150-081c-4937-befa-f0ff08d92f21",
   "metadata": {},
   "outputs": [
    {
     "name": "stdout",
     "output_type": "stream",
     "text": [
      "['0' '1' '2' '3' '4' '5' '6' '7' '8' '9']\n"
     ]
    }
   ],
   "source": [
    "# Etiquetas de clases\n",
    "clases = np.unique(mnist.target)\n",
    "print(clases)"
   ]
  },
  {
   "cell_type": "code",
   "execution_count": 10,
   "id": "398ebb81-b2f3-4b58-8e42-dc0bc98bf947",
   "metadata": {},
   "outputs": [
    {
     "name": "stdout",
     "output_type": "stream",
     "text": [
      "(70000, 784)\n"
     ]
    },
    {
     "data": {
      "text/plain": [
       "pandas.core.frame.DataFrame"
      ]
     },
     "execution_count": 10,
     "metadata": {},
     "output_type": "execute_result"
    }
   ],
   "source": [
    "# Datos de entrenamiento\n",
    "print(mnist.data.shape)\n",
    "type(mnist.data)"
   ]
  },
  {
   "cell_type": "markdown",
   "id": "f194b4de-eadd-44c7-9987-12c54e1df949",
   "metadata": {},
   "source": [
    "## MNIST\n",
    "\n",
    "Contiene imágenes de 28x28 pixeles acomodadas como renglones de una matrix $X = m \\times 784$, donde cada columna es la intensidad en escala de grises de un pixel."
   ]
  },
  {
   "cell_type": "code",
   "execution_count": 11,
   "id": "1da6822c-ad76-4fb9-8280-313bcda4dd32",
   "metadata": {},
   "outputs": [],
   "source": [
    "lado = 28"
   ]
  },
  {
   "cell_type": "code",
   "execution_count": 12,
   "id": "687cc751-ca23-405c-9d87-d317063e5a96",
   "metadata": {},
   "outputs": [
    {
     "data": {
      "text/plain": [
       "784"
      ]
     },
     "execution_count": 12,
     "metadata": {},
     "output_type": "execute_result"
    }
   ],
   "source": [
    "lado * lado"
   ]
  },
  {
   "cell_type": "code",
   "execution_count": 13,
   "id": "cf97cb38-f8db-4d25-b5f2-0965b2af6868",
   "metadata": {},
   "outputs": [
    {
     "data": {
      "text/html": [
       "<div>\n",
       "<style scoped>\n",
       "    .dataframe tbody tr th:only-of-type {\n",
       "        vertical-align: middle;\n",
       "    }\n",
       "\n",
       "    .dataframe tbody tr th {\n",
       "        vertical-align: top;\n",
       "    }\n",
       "\n",
       "    .dataframe thead th {\n",
       "        text-align: right;\n",
       "    }\n",
       "</style>\n",
       "<table border=\"1\" class=\"dataframe\">\n",
       "  <thead>\n",
       "    <tr style=\"text-align: right;\">\n",
       "      <th></th>\n",
       "      <th>pixel1</th>\n",
       "      <th>pixel2</th>\n",
       "      <th>pixel3</th>\n",
       "      <th>pixel4</th>\n",
       "      <th>pixel5</th>\n",
       "      <th>pixel6</th>\n",
       "      <th>pixel7</th>\n",
       "      <th>pixel8</th>\n",
       "      <th>pixel9</th>\n",
       "      <th>pixel10</th>\n",
       "      <th>...</th>\n",
       "      <th>pixel775</th>\n",
       "      <th>pixel776</th>\n",
       "      <th>pixel777</th>\n",
       "      <th>pixel778</th>\n",
       "      <th>pixel779</th>\n",
       "      <th>pixel780</th>\n",
       "      <th>pixel781</th>\n",
       "      <th>pixel782</th>\n",
       "      <th>pixel783</th>\n",
       "      <th>pixel784</th>\n",
       "    </tr>\n",
       "  </thead>\n",
       "  <tbody>\n",
       "    <tr>\n",
       "      <th>0</th>\n",
       "      <td>0</td>\n",
       "      <td>0</td>\n",
       "      <td>0</td>\n",
       "      <td>0</td>\n",
       "      <td>0</td>\n",
       "      <td>0</td>\n",
       "      <td>0</td>\n",
       "      <td>0</td>\n",
       "      <td>0</td>\n",
       "      <td>0</td>\n",
       "      <td>...</td>\n",
       "      <td>0</td>\n",
       "      <td>0</td>\n",
       "      <td>0</td>\n",
       "      <td>0</td>\n",
       "      <td>0</td>\n",
       "      <td>0</td>\n",
       "      <td>0</td>\n",
       "      <td>0</td>\n",
       "      <td>0</td>\n",
       "      <td>0</td>\n",
       "    </tr>\n",
       "  </tbody>\n",
       "</table>\n",
       "<p>1 rows × 784 columns</p>\n",
       "</div>"
      ],
      "text/plain": [
       "   pixel1  pixel2  pixel3  pixel4  pixel5  pixel6  pixel7  pixel8  pixel9  \\\n",
       "0       0       0       0       0       0       0       0       0       0   \n",
       "\n",
       "   pixel10  ...  pixel775  pixel776  pixel777  pixel778  pixel779  pixel780  \\\n",
       "0        0  ...         0         0         0         0         0         0   \n",
       "\n",
       "   pixel781  pixel782  pixel783  pixel784  \n",
       "0         0         0         0         0  \n",
       "\n",
       "[1 rows x 784 columns]"
      ]
     },
     "execution_count": 13,
     "metadata": {},
     "output_type": "execute_result"
    }
   ],
   "source": [
    "mnist.data.head(1)"
   ]
  },
  {
   "cell_type": "markdown",
   "id": "a79dc11d-61b2-439c-9ff5-6299f517a07f",
   "metadata": {},
   "source": [
    "### Ejemplo: mostrar los ochos"
   ]
  },
  {
   "cell_type": "code",
   "execution_count": 14,
   "id": "bd36b9aa-e0a1-49bf-9d9b-04d67f553016",
   "metadata": {},
   "outputs": [],
   "source": [
    "m = 1000\n",
    "etiqueta = '8'\n",
    "\n",
    "pos_dígito = mnist.target == etiqueta\n",
    "data_dígito = mnist.data[pos_dígito]\n",
    "entrena_dígito = data_dígito[:m]\n",
    "X = entrena_dígito\n",
    "Y = mnist.target[pos_dígito][:m]"
   ]
  },
  {
   "cell_type": "code",
   "execution_count": 15,
   "id": "d33b457a-b1c4-4df8-a92f-7861e0aaf09f",
   "metadata": {},
   "outputs": [
    {
     "data": {
      "text/plain": [
       "pandas.core.frame.DataFrame"
      ]
     },
     "execution_count": 15,
     "metadata": {},
     "output_type": "execute_result"
    }
   ],
   "source": [
    "type(X)"
   ]
  },
  {
   "cell_type": "code",
   "execution_count": 16,
   "id": "86d4f7d5-1c86-41f7-8384-ada7f9ef44ed",
   "metadata": {},
   "outputs": [
    {
     "data": {
      "text/plain": [
       "pandas.core.series.Series"
      ]
     },
     "execution_count": 16,
     "metadata": {},
     "output_type": "execute_result"
    }
   ],
   "source": [
    "type(Y)"
   ]
  },
  {
   "cell_type": "code",
   "execution_count": 17,
   "id": "38954d2b-dd69-4ac4-92aa-f775dde77fdd",
   "metadata": {},
   "outputs": [],
   "source": [
    "# Extraer los datos de pandas para manipular como matriz de numpy\n",
    "\n",
    "nX = X.to_numpy()"
   ]
  },
  {
   "cell_type": "code",
   "execution_count": 18,
   "id": "76287de5-2d4d-4e56-bbc6-238174ea6c44",
   "metadata": {},
   "outputs": [],
   "source": [
    "nY = Y.to_numpy()"
   ]
  },
  {
   "cell_type": "code",
   "execution_count": 19,
   "id": "e060fe4b-9fbe-48b7-ae90-73bedaf2f5c4",
   "metadata": {},
   "outputs": [],
   "source": [
    "img = nX[0].reshape((lado, lado))"
   ]
  },
  {
   "cell_type": "code",
   "execution_count": 20,
   "id": "77d0bb54-4661-475e-8ee6-96ca57b060a4",
   "metadata": {},
   "outputs": [
    {
     "data": {
      "text/plain": [
       "<matplotlib.image.AxesImage at 0x71c00aec6450>"
      ]
     },
     "execution_count": 20,
     "metadata": {},
     "output_type": "execute_result"
    },
    {
     "data": {
      "image/png": "[encoded data removed]",
      "text/plain": [
       "<Figure size 640x480 with 1 Axes>"
      ]
     },
     "metadata": {},
     "output_type": "display_data"
    }
   ],
   "source": [
    "plt.imshow(img)"
   ]
  },
  {
   "cell_type": "markdown",
   "id": "771e7586-7ea2-4540-a88d-54e5b8ef2240",
   "metadata": {},
   "source": [
    "# Crear conjuntos entrenamiento, validación y prueba"
   ]
  },
  {
   "cell_type": "code",
   "execution_count": 21,
   "id": "62887bf4-6f4d-4a14-88d2-5fa8ed530869",
   "metadata": {},
   "outputs": [],
   "source": [
    "from sklearn.model_selection import train_test_split"
   ]
  },
  {
   "cell_type": "code",
   "execution_count": 22,
   "id": "376578ed-d8ea-4a76-9c62-d5fc2eb4a9df",
   "metadata": {},
   "outputs": [],
   "source": [
    "X_train, X_test, y_train, y_test = train_test_split(nX, nY, test_size=0.3)"
   ]
  },
  {
   "cell_type": "code",
   "execution_count": 23,
   "id": "42eecbe5-ba6a-4f15-ba45-613e7caaac51",
   "metadata": {},
   "outputs": [
    {
     "data": {
      "text/plain": [
       "(700, 784)"
      ]
     },
     "execution_count": 23,
     "metadata": {},
     "output_type": "execute_result"
    }
   ],
   "source": [
    "X_train.shape"
   ]
  },
  {
   "cell_type": "markdown",
   "id": "1a46cde0-8789-43bf-8dc6-fa3737916972",
   "metadata": {},
   "source": [
    "**Ejercicio:** Utilizar la misma función para generar los conjuntos de validación y prueba a partir de X_test y y_test."
   ]
  },
  {
   "cell_type": "code",
   "execution_count": null,
   "id": "43042309-2e54-41a1-bf12-ed5b9e8d3056",
   "metadata": {},
   "outputs": [],
   "source": []
  }
 ],
 "metadata": {
  "kernelspec": {
   "display_name": "Python 3 (ipykernel)",
   "language": "python",
   "name": "python3"
  },
  "language_info": {
   "codemirror_mode": {
    "name": "ipython",
    "version": 3
   },
   "file_extension": ".py",
   "mimetype": "text/x-python",
   "name": "python",
   "nbconvert_exporter": "python",
   "pygments_lexer": "ipython3",
   "version": "3.12.3"
  }
 },
 "nbformat": 4,
 "nbformat_minor": 5
}
